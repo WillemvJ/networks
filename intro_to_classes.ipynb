{
  "cells": [
    {
      "cell_type": "markdown",
      "metadata": {
        "id": "view-in-github",
        "colab_type": "text"
      },
      "source": [
        "<a href=\"https://colab.research.google.com/github/WillemvJ/networks/blob/main/intro_to_classes.ipynb\" target=\"_parent\"><img src=\"https://colab.research.google.com/assets/colab-badge.svg\" alt=\"Open In Colab\"/></a>"
      ]
    },
    {
      "cell_type": "markdown",
      "metadata": {
        "id": "rC-6yFGry63d"
      },
      "source": [
        "# Introduction to Object-Oriented Programming\n",
        "\n",
        "In this notebook, we'll learn about the basics of object-oriented programming (OOP) in Python. We'll explore how to create and use classes to model real-world entities."
      ]
    },
    {
      "cell_type": "markdown",
      "metadata": {
        "id": "XeWzq4vVy63j"
      },
      "source": [
        "## What is a Class?\n",
        "\n",
        "A class is a blueprint for creating objects. Objects are instances of classes and can have attributes (characteristics they possess) and methods (actions they can perform)."
      ]
    },
    {
      "cell_type": "code",
      "execution_count": 14,
      "metadata": {
        "id": "fQpQhXPmy63l"
      },
      "outputs": [],
      "source": [
        "class Book:\n",
        "    # the __init__ function is called when creating an instance of a book.\n",
        "    # its role is to initialize an instance of a Book.\n",
        "    def __init__(self, title, author, pages):\n",
        "        self.title = title\n",
        "        self.author = author\n",
        "        self.pages = pages\n",
        "\n",
        "    def __str__(self):\n",
        "        return f'\\\"{self.title}\\\" by {self.author}'\n",
        "\n",
        "    def is_long(self):\n",
        "        return self.pages > 300"
      ]
    },
    {
      "cell_type": "markdown",
      "metadata": {
        "id": "otiuFhoNy63n"
      },
      "source": [
        "## Creating Instances of a Class\n",
        "\n",
        "Now that we have a `Book` class, let's create some book instances."
      ]
    },
    {
      "cell_type": "code",
      "execution_count": 11,
      "metadata": {
        "id": "jXWBK_Jry63p"
      },
      "outputs": [],
      "source": [
        "# Creating book instances. Note that this calls the __init__ function\n",
        "book1 = Book('To Kill a Mockingbird', 'Harper Lee', 281)\n",
        "book2 = Book('1984', 'George Orwell', 328)"
      ]
    },
    {
      "cell_type": "code",
      "source": [
        "# Printing books\n",
        "# print calls the __str__ function -\n",
        "print(book1)\n",
        "print(book2)\n",
        "# here, we call the various attributes of the books, and also the class method\n",
        "# is_long that we defined.\n",
        "print(f'Is \\\"{book1.title}\\\" a long book? {book1.is_long()}')\n",
        "print(f'Is \\\"{book2.title}\\\" a long book? {book2.is_long()}')"
      ],
      "metadata": {
        "colab": {
          "base_uri": "https://localhost:8080/"
        },
        "id": "wavEDpCVGzdU",
        "outputId": "4eeedfad-226b-419b-dead-01b936cf937f"
      },
      "execution_count": 13,
      "outputs": [
        {
          "output_type": "stream",
          "name": "stdout",
          "text": [
            "\"To Kill a Mockingbird\" by Harper Lee\n",
            "\"1984\" by George Orwell\n",
            "Is \"To Kill a Mockingbird\" a long book? False\n",
            "Is \"1984\" a long book? True\n"
          ]
        }
      ]
    },
    {
      "cell_type": "code",
      "source": [],
      "metadata": {
        "id": "YwQmp2PjG2Ir"
      },
      "execution_count": null,
      "outputs": []
    }
  ],
  "metadata": {
    "kernelspec": {
      "display_name": "Python 3",
      "language": "python",
      "name": "python3"
    },
    "language_info": {
      "codemirror_mode": {
        "name": "ipython",
        "version": 3
      },
      "file_extension": ".py",
      "mimetype": "text/x-python",
      "name": "python",
      "nbconvert_exporter": "python",
      "pygments_lexer": "ipython3",
      "version": "3.8.5"
    },
    "colab": {
      "provenance": [],
      "include_colab_link": true
    }
  },
  "nbformat": 4,
  "nbformat_minor": 0
}