{
  "nbformat": 4,
  "nbformat_minor": 0,
  "metadata": {
    "colab": {
      "provenance": [],
      "authorship_tag": "ABX9TyMTuhfnGlDVUW/Jn4LgUfrg",
      "include_colab_link": true
    },
    "kernelspec": {
      "name": "python3",
      "display_name": "Python 3"
    },
    "language_info": {
      "name": "python"
    }
  },
  "cells": [
    {
      "cell_type": "markdown",
      "metadata": {
        "id": "view-in-github",
        "colab_type": "text"
      },
      "source": [
        "<a href=\"https://colab.research.google.com/github/WillemvJ/networks/blob/main/event_driven_simulation.ipynb\" target=\"_parent\"><img src=\"https://colab.research.google.com/assets/colab-badge.svg\" alt=\"Open In Colab\"/></a>"
      ]
    },
    {
      "cell_type": "markdown",
      "source": [
        "## Introduction to Event-Driven Simulation\n",
        "\n",
        "Event-driven simulation is a powerful technique used to model complex systems by tracking events that change the state of the system at discrete points in time, rather than continuously. This approach is particularly useful for simulating systems such as queueing systems, network traffic, and industrial processes. The goal of this course is to teach you about modelling logistics networks, and (Event-Driven) Simulation will help us with that.\n",
        "\n",
        "### What is an Event?\n",
        "\n",
        "In the context of event-driven simulation, an \"event\" represents a specific occurrence that changes the state of the system at a particular time. Events are typically scheduled to happen at certain times and are processed sequentially, influencing the system's behavior and the scheduling of future events.\n",
        "\n",
        "### Types of Events\n",
        "\n",
        "In this simulation, we will consider two types of events:\n",
        "\n",
        "1. **Customer Arrival Event**: Represents the arrival of a customer looking to rent a bike. The arrival of a customer potentially triggers the rental of a bike if one is available.\n",
        "2. **Bike Return Event**: Occurs when a previously rented bike is returned and becomes available for future customers.\n",
        "\n",
        "### Future Event Set (FES)\n",
        "\n",
        "The Future Event Set (FES) is a critical component in event-driven simulation. It functions as a priority queue to manage and process events based on the time they occur. The FES ensures that events are handled in chronological order, allowing the simulation to accurately reflect the sequence of actions in the system.\n",
        "\n",
        "- **Adding an Event**: Events are added to the FES with their scheduled time.\n",
        "- **Processing an Event**: The system retrieves and processes the next event from the FES (the event with the earliest time). Processing an event may involve changing the state of the system and possibly scheduling new events (e.g., scheduling a bike return when a bike is rented).\n",
        "\n",
        "This notebook sets up the basic classes and structure to simulate a simple bike rental system using event-driven simulation principles. We will expand on this framework to include handling of bike availability, responding to customer arrivals, and managing bike returns.\n",
        "\n",
        "After setting up the classes, the notebook includes some code that demonstrates their usage."
      ],
      "metadata": {
        "id": "U8L7oSGB83AE"
      }
    },
    {
      "cell_type": "code",
      "execution_count": 10,
      "metadata": {
        "id": "nKfGrSzF4yjJ"
      },
      "outputs": [],
      "source": [
        "import heapq\n",
        "import numpy as np\n",
        "import matplotlib.pyplot as plt\n",
        "\n",
        "\n",
        "class CustomerArrivalEvent:\n",
        "    def __init__(self, time):\n",
        "        self.time = time\n",
        "\n",
        "    def __lt__(self, other):\n",
        "        return self.time < other.time\n",
        "\n",
        "    def __str__(self):\n",
        "        return f\"Customer arrival at t = {self.time}\"\n",
        "\n",
        "class BikeReturnEvent:\n",
        "    def __init__(self, time):\n",
        "        self.time = time\n",
        "\n",
        "    def __lt__(self, other):\n",
        "        return self.time < other.time\n",
        "\n",
        "    def __str__(self):\n",
        "        return f\"Bike return at t = {self.time}\"\n",
        "\n",
        "# future event set (FES) class\n",
        "# keeps track of things that will happen at some time\n",
        "# and allows us to find the first thing to happen.\n",
        "# from Advanced Simulation course (Marco Boon)\n",
        "class FutureEventSet:\n",
        "    def __init__(self):\n",
        "        self.events = []\n",
        "\n",
        "    def add(self, event):\n",
        "        heapq.heappush(self.events, event)\n",
        "\n",
        "    def next(self):\n",
        "        return heapq.heappop(self.events)\n",
        "\n",
        "    def isEmpty(self):\n",
        "        return len(self.events) == 0\n",
        "\n",
        "    def __str__(self):\n",
        "        sortedEvents = sorted(self.events)\n",
        "        return '\\n'.join(str(e) for e in sortedEvents)"
      ]
    },
    {
      "cell_type": "markdown",
      "source": [
        "## Managing the Future Event Set (FES)\n",
        "\n",
        "This section demonstrates the the Future Event Set (FES) to keep track of events in a bike rental simulation. We initialize the FES, add events to it, and then process these events sequentially.\n",
        "\n",
        "### Initialization and Adding Events\n",
        "\n",
        "First, we initialize the Future Event Set and add several `CustomerArrivalEvent` instances to it. These events represent the times at which customers arrive to rent a bike:\n",
        "\n",
        "### Adding a Bike Return Event\n",
        "For illustration purposes, we also add a bike return event to the FES. We then return"
      ],
      "metadata": {
        "id": "neEzn0DR8Zmj"
      }
    },
    {
      "cell_type": "code",
      "source": [
        "fes = FutureEventSet()\n",
        "fes.add(CustomerArrivalEvent(5))\n",
        "fes.add(CustomerArrivalEvent(3))\n",
        "print(\"FES after adding two customer arrivals:\")\n",
        "print(fes)\n",
        "\n",
        "fes.add(BikeReturnEvent(4))\n",
        "print(\"\\nFES after adding bike return event:\")\n",
        "print(fes)\n",
        "\n",
        "while not fes.isEmpty():\n",
        "    print(\"\\nProcessing event:\", fes.next())\n",
        "    print(\"FES now:\")\n",
        "    print(fes)"
      ],
      "metadata": {
        "id": "7G6uRg8U5Jmq"
      },
      "execution_count": null,
      "outputs": []
    },
    {
      "cell_type": "markdown",
      "source": [
        "### Some actual simulation with the event set\n",
        "\n",
        "Now, let's do something a bit more usefull with all of this. Suppose we know that at a given day, people arrive at a bike sharing system 1, 1.5, 2.2, and 2.6 hours after opening. The person takes the bike, and returns it after 1 hours later. For ease, let us assume that there are initially 5 bikes. We want to keep track of what happens during the day."
      ],
      "metadata": {
        "id": "psLAkCPD_yXv"
      }
    },
    {
      "cell_type": "code",
      "source": [
        "fes = FutureEventSet()\n",
        "fes.add(CustomerArrivalEvent(1))\n",
        "fes.add(CustomerArrivalEvent(1.5))\n",
        "fes.add(CustomerArrivalEvent(1.6))\n",
        "fes.add(CustomerArrivalEvent(2.2))\n",
        "fes.add(CustomerArrivalEvent(2.6))\n",
        "print(fes)\n",
        "rental_duration = 1\n",
        "bikes_available = 2\n",
        "# Processing events - always first the event with the earliest time\n",
        "while not fes.isEmpty():\n",
        "    event = fes.next()\n",
        "    print()\n",
        "    print(event)\n",
        "    if isinstance(event, CustomerArrivalEvent):\n",
        "        bikes_available -= 1\n",
        "        return_time = event.time + rental_duration\n",
        "        # Schedule the bike return, i.e. add it to the set of things that must\n",
        "        # ``happen''. Note that this may happen before some of the arrival\n",
        "        # events that are allready scheduled.\n",
        "        fes.add(BikeReturnEvent(return_time))\n",
        "    elif isinstance(event, BikeReturnEvent):\n",
        "        bikes_available += 1\n",
        "    print(\"-------FES-------\")\n",
        "    print(fes)\n",
        "    print(\"-----------------\")\n",
        "    # this woudl print the amount of bikes available over time.\n",
        "    # print(f\"bikes left {bikes_available}\")"
      ],
      "metadata": {
        "id": "pJdoKLNV8Yem"
      },
      "execution_count": null,
      "outputs": []
    },
    {
      "cell_type": "code",
      "source": [],
      "metadata": {
        "id": "fhaqZVZFAFtD"
      },
      "execution_count": null,
      "outputs": []
    }
  ]
}