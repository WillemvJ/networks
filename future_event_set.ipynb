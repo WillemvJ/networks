{
  "nbformat": 4,
  "nbformat_minor": 0,
  "metadata": {
    "colab": {
      "provenance": [],
      "authorship_tag": "ABX9TyPPmpW+HSmZv9Tp0AfUM1tw",
      "include_colab_link": true
    },
    "kernelspec": {
      "name": "python3",
      "display_name": "Python 3"
    },
    "language_info": {
      "name": "python"
    }
  },
  "cells": [
    {
      "cell_type": "markdown",
      "metadata": {
        "id": "view-in-github",
        "colab_type": "text"
      },
      "source": [
        "<a href=\"https://colab.research.google.com/github/WillemvJ/networks/blob/main/future_event_set.ipynb\" target=\"_parent\"><img src=\"https://colab.research.google.com/assets/colab-badge.svg\" alt=\"Open In Colab\"/></a>"
      ]
    },
    {
      "cell_type": "code",
      "execution_count": 5,
      "metadata": {
        "colab": {
          "base_uri": "https://localhost:8080/"
        },
        "id": "nKfGrSzF4yjJ",
        "outputId": "85cef366-3af4-4322-8746-f001ac500919"
      },
      "outputs": [
        {
          "output_type": "stream",
          "name": "stdout",
          "text": [
            "FES after adding two arrivals:\n",
            "Customer arrival at t = 3\n",
            "Customer arrival at t = 5\n",
            "\n",
            "FES after adding a departure:\n",
            "Customer arrival at t = 3\n",
            "Bike return at t = 4\n",
            "Customer arrival at t = 5\n",
            "\n",
            "Processing event: Customer arrival at t = 3\n",
            "FES now:\n",
            "Bike return at t = 4\n",
            "Customer arrival at t = 5\n",
            "\n",
            "Processing event: Bike return at t = 4\n",
            "FES now:\n",
            "Customer arrival at t = 5\n",
            "\n",
            "Processing event: Customer arrival at t = 5\n",
            "FES now:\n",
            "\n"
          ]
        }
      ],
      "source": [
        "import heapq\n",
        "import numpy as np\n",
        "import matplotlib.pyplot as plt\n",
        "\n",
        "\n",
        "class CustomerArrivalEvent:\n",
        "    def __init__(self, time):\n",
        "        self.time = time\n",
        "\n",
        "    def __lt__(self, other):\n",
        "        return self.time < other.time\n",
        "\n",
        "    def __str__(self):\n",
        "        return f\"Customer arrival at t = {self.time}\"\n",
        "\n",
        "class BikeReturnEvent:\n",
        "    def __init__(self, time):\n",
        "        self.time = time\n",
        "\n",
        "    def __lt__(self, other):\n",
        "        return self.time < other.time\n",
        "\n",
        "    def __str__(self):\n",
        "        return f\"Bike return at t = {self.time}\"\n",
        "\n",
        "# future event set (FES) class\n",
        "# keeps track of things that will happen at some time\n",
        "# and allows us to find the first thing to happen.\n",
        "# from Advanced Simulation course (Marco Boon)\n",
        "class FutureEventSet:\n",
        "    def __init__(self):\n",
        "        self.events = []\n",
        "\n",
        "    def add(self, event):\n",
        "        heapq.heappush(self.events, event)\n",
        "\n",
        "    def next(self):\n",
        "        return heapq.heappop(self.events)\n",
        "\n",
        "    def isEmpty(self):\n",
        "        return len(self.events) == 0\n",
        "\n",
        "    def __str__(self):\n",
        "        sortedEvents = sorted(self.events)\n",
        "        return '\\n'.join(str(e) for e in sortedEvents)\n",
        "\n",
        "\n",
        "fes = FutureEventSet()\n",
        "fes.add(CustomerArrivalEvent(5))\n",
        "fes.add(CustomerArrivalEvent(3))\n",
        "print(\"FES after adding two arrivals:\")\n",
        "print(fes)\n",
        "\n",
        "fes.add(BikeReturnEvent(4))\n",
        "print(\"\\nFES after adding a departure:\")\n",
        "print(fes)\n",
        "\n",
        "while not fes.isEmpty():\n",
        "    print(\"\\nProcessing event:\", fes.next())\n",
        "    print(\"FES now:\")\n",
        "    print(fes)"
      ]
    },
    {
      "cell_type": "code",
      "source": [],
      "metadata": {
        "id": "7G6uRg8U5Jmq"
      },
      "execution_count": null,
      "outputs": []
    }
  ]
}